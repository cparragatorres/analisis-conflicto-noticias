{
 "cells": [
  {
   "cell_type": "code",
   "execution_count": null,
   "metadata": {},
   "outputs": [],
   "source": [
    "import gc\n",
    "import json\n",
    "import os\n",
    "import shutil"
   ]
  },
  {
   "cell_type": "code",
   "execution_count": null,
   "metadata": {},
   "outputs": [],
   "source": [
    "import utils.gemini_functions as gemini_functions\n",
    "import utils.functions as functions\n",
    "gemini_functions.configurar_api()"
   ]
  },
  {
   "cell_type": "code",
   "execution_count": null,
   "metadata": {},
   "outputs": [],
   "source": [
    "# Paso 1: Leer el archivo JSON de entrada\n",
    "json_data = gemini_functions.read_json_file('scraped_texts.json')"
   ]
  },
  {
   "cell_type": "code",
   "execution_count": null,
   "metadata": {},
   "outputs": [],
   "source": [
    "# Limpiar el JSON eliminando las claves con el valor \"Error al scrapear\"\n",
    "json_limpio = functions.limpiar_json(json_data, \"Error al scrapear\")\n",
    "\n",
    "total_claves = len(json_limpio.keys())  # Contar el número total de claves\n",
    "print(f\"Total de claves en el JSON: {total_claves}\")"
   ]
  },
  {
   "cell_type": "code",
   "execution_count": null,
   "metadata": {},
   "outputs": [],
   "source": [
    "# Directorios\n",
    "carpeta_jsons = \"jsons\"\n",
    "carpeta_respuestas = \"respuestas\"\n",
    "carpeta_respuestas_json = os.path.join(carpeta_respuestas, \"respuestas_json\")\n",
    "\n",
    "# Crear carpetas si no existen\n",
    "os.makedirs(carpeta_jsons, exist_ok=True)\n",
    "os.makedirs(carpeta_respuestas, exist_ok=True)\n",
    "os.makedirs(carpeta_respuestas_json, exist_ok=True)"
   ]
  },
  {
   "cell_type": "code",
   "execution_count": null,
   "metadata": {},
   "outputs": [],
   "source": [
    "# Fragmentar el JSON\n",
    "fragmentos = functions.fragmentar_json(json_limpio, claves_por_fragmento=20)\n",
    "\n",
    "# Guardar los fragmentos en la carpeta 'jsons'\n",
    "functions.guardar_fragmentos(fragmentos, carpeta_destino=carpeta_jsons)"
   ]
  },
  {
   "cell_type": "code",
   "execution_count": null,
   "metadata": {},
   "outputs": [],
   "source": [
    "# Obtener los archivos de fragmentos en jsons/\n",
    "archivos_fragmentos = sorted(\n",
    "    [f for f in os.listdir(carpeta_jsons) if f.endswith(\".json\")]\n",
    ")"
   ]
  },
  {
   "cell_type": "code",
   "execution_count": null,
   "metadata": {},
   "outputs": [],
   "source": [
    "# Cargar el prompt desde un archivo\n",
    "archivo_prompt = \"prompts/analisis_de_conflicto.txt\"\n",
    "prompt = gemini_functions.cargar_prompt(archivo_prompt)"
   ]
  },
  {
   "cell_type": "code",
   "execution_count": null,
   "metadata": {},
   "outputs": [],
   "source": [
    "# Procesar cada fragmento de JSON y enviara Gemini IA\n",
    "for i, archivo_json in enumerate(archivos_fragmentos, start=1):\n",
    "    ruta_json = os.path.join(carpeta_jsons, archivo_json)\n",
    "\n",
    "     # Cargar el fragmento desde el archivo\n",
    "    with open(ruta_json, \"r\", encoding=\"utf-8\") as file:\n",
    "        fragmento = json.load(file)\n",
    "\n",
    "    # Llamada a la función para enviar la solicitud a Gemini con el fragmento actual\n",
    "    response = gemini_functions.enviar_a_gemini(prompt, fragmento)\n",
    "\n",
    "    # Procesar la respuesta\n",
    "    if response:\n",
    "        # print(f\"Respuesta con JSON para conflicto {i}:\", response)\n",
    "\n",
    "        #imprimir la primera clave del json\n",
    "        primera_clave = list(fragmento.keys())[0]\n",
    "\n",
    "        # Guardar la respuesta en un archivo de texto con nombre secuencial\n",
    "        archivo_salida = f\"respuesta_gemini_{i}.txt\"\n",
    "        gemini_functions.guardar_respuesta_en_txt(response, archivo_salida)\n",
    "    else:\n",
    "        print(f\"No se obtuvo una respuesta válida para conflicto {i}.\")"
   ]
  },
  {
   "cell_type": "code",
   "execution_count": null,
   "metadata": {},
   "outputs": [],
   "source": [
    "# Obtener los archivos de respuestas de Gemini\n",
    "archivos_respuestas = sorted(\n",
    "    [f for f in os.listdir(carpeta_respuestas) if f.endswith(\".txt\")]\n",
    ")\n",
    "\n",
    "# Extraer JSON de cada archivo de respuesta y guardarlo en respuestas_json/\n",
    "for archivo_txt in archivos_respuestas:\n",
    "    ruta_txt = os.path.join(carpeta_respuestas, archivo_txt)\n",
    "    json_extraido = functions.extraer_json_de_txt(ruta_txt)\n",
    "\n",
    "    if json_extraido:\n",
    "        # Filtrar los fragmentos de JSON que contienen \"descripcion_conflicto\" con el texto no relevante\n",
    "        json_limpio = {}\n",
    "        for clave, valor in json_extraido.items():\n",
    "            # Verificar si \"descripcion_conflicto\" contiene la descripción no relevante\n",
    "            if isinstance(valor, dict) and \"descripcion_conflicto\" in valor:\n",
    "                descripcion_conflicto = valor[\"descripcion_conflicto\"]\n",
    "                if \"No se describe un conflicto social.\" in descripcion_conflicto:\n",
    "                    # Si contiene el texto no relevante, omitimos esta clave del JSON\n",
    "                    continue\n",
    "            # Si no se eliminó la clave, la mantenemos en el JSON limpio\n",
    "            json_limpio[clave] = valor\n",
    "\n",
    "        if json_limpio:\n",
    "            archivo_json = archivo_txt.replace(\".txt\", \".json\")\n",
    "            ruta_json = os.path.join(carpeta_respuestas_json, archivo_json)\n",
    "\n",
    "            # Guardar el JSON limpio en un archivo\n",
    "            with open(ruta_json, \"w\", encoding=\"utf-8\") as file:\n",
    "                json.dump(json_limpio, file, indent=4, ensure_ascii=False)\n",
    "\n",
    "            print(f\"JSON extraído de {archivo_txt} y guardado en {ruta_json}\")\n",
    "        else:\n",
    "            print(f\"El JSON de {archivo_txt} está vacío después de la limpieza.\")\n",
    "    else:\n",
    "        print(f\"No se pudo extraer JSON válido de {archivo_txt}\")"
   ]
  },
  {
   "cell_type": "code",
   "execution_count": null,
   "metadata": {},
   "outputs": [],
   "source": [
    "# Unir los JSON en un solo archivo\n",
    "\n",
    "# Directorio de respuestas JSON y archivo de salida\n",
    "carpeta_respuestas_json = \"respuestas/respuestas_json\"\n",
    "archivo_json_salida = \"join_respuestas_gemini.json\"\n",
    "\n",
    "# Unir todos los JSON en un solo archivo\n",
    "functions.unir_jsons(carpeta_respuestas_json, archivo_json_salida)\n",
    "\n",
    "#eliminar la carpeta respuestas\n",
    "shutil.rmtree(carpeta_respuestas)\n",
    "shutil.rmtree(carpeta_jsons)"
   ]
  }
 ],
 "metadata": {
  "kernelspec": {
   "display_name": "conflictos",
   "language": "python",
   "name": "python3"
  },
  "language_info": {
   "codemirror_mode": {
    "name": "ipython",
    "version": 3
   },
   "file_extension": ".py",
   "mimetype": "text/x-python",
   "name": "python",
   "nbconvert_exporter": "python",
   "pygments_lexer": "ipython3",
   "version": "3.10.11"
  }
 },
 "nbformat": 4,
 "nbformat_minor": 2
}
