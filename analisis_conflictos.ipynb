{
 "cells": [
  {
   "cell_type": "code",
   "execution_count": null,
   "metadata": {},
   "outputs": [],
   "source": [
    "import google.generativeai as genai\n",
    "import pandas\n",
    "import json"
   ]
  },
  {
   "cell_type": "code",
   "execution_count": null,
   "metadata": {},
   "outputs": [],
   "source": [
    "from gemini_functions import configurar_api, read_json_file, enviar_a_gemini, save_json_file\n",
    "configurar_api()"
   ]
  },
  {
   "cell_type": "code",
   "execution_count": null,
   "metadata": {},
   "outputs": [],
   "source": [
    "# Paso 1: Leer el archivo JSON de entrada\n",
    "json_data = read_json_file('scraped_texts.json')"
   ]
  },
  {
   "cell_type": "code",
   "execution_count": null,
   "metadata": {},
   "outputs": [],
   "source": [
    "total_claves = len(json_data.keys())  # Contar el número total de claves\n",
    "print(f\"Total de claves en el JSON: {total_claves}\")\n",
    "\n",
    "# Mostrar las primeras 5 entradas del JSON\n",
    "keys = list(json_data.keys())  # Obtener las claves del diccionario como una lista\n",
    "for key in keys[:5]:  # Acceder a las primeras 5 claves\n",
    "    print(f\"URL: {key}\")\n",
    "    print(f\"Texto: {json_data[key]}\")\n",
    "    print(\"-\" * 50)"
   ]
  },
  {
   "cell_type": "code",
   "execution_count": null,
   "metadata": {},
   "outputs": [],
   "source": [
    "# Definir el prompt\n",
    "prompt = \"Por favor, genera contenido relacionado con el análisis de conflictos.\"\n",
    "\n",
    "# Llamada a la función para enviar la solicitud a Gemini\n",
    "response = enviar_a_gemini(prompt)\n",
    "\n",
    "# Procesar la respuesta\n",
    "# Mostrar la respuesta de Gemini\n",
    "if response:\n",
    "    print(\"Respuesta de Gemini:\", response)"
   ]
  },
  {
   "cell_type": "code",
   "execution_count": null,
   "metadata": {},
   "outputs": [],
   "source": [
    "if input_data:\n",
    "    # Paso 2: Enviar cada texto a Gemini\n",
    "    outputs = []\n",
    "    for entry in input_data:\n",
    "        text = entry.get('text', '')\n",
    "        if text:\n",
    "            response = send_to_gemini(text, api_key)\n",
    "            processed_response = process_gemini_response(response)\n",
    "            if processed_response:\n",
    "                outputs.append(processed_response)\n",
    "            else:\n",
    "                print(f\"No se procesó correctamente el texto: {text}\")\n",
    "        else:\n",
    "            print(\"Texto vacío o no encontrado en la entrada.\")\n",
    "\n",
    "    # Paso 3: Guardar los resultados procesados en un archivo JSON\n",
    "    if outputs:\n",
    "        save_json_file(outputs, 'conflictos_procesados.json')\n"
   ]
  }
 ],
 "metadata": {
  "kernelspec": {
   "display_name": "conflictos",
   "language": "python",
   "name": "python3"
  },
  "language_info": {
   "codemirror_mode": {
    "name": "ipython",
    "version": 3
   },
   "file_extension": ".py",
   "mimetype": "text/x-python",
   "name": "python",
   "nbconvert_exporter": "python",
   "pygments_lexer": "ipython3",
   "version": "3.13.1"
  }
 },
 "nbformat": 4,
 "nbformat_minor": 2
}
