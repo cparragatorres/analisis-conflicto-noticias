{
 "cells": [
  {
   "cell_type": "code",
   "execution_count": null,
   "metadata": {},
   "outputs": [],
   "source": [
    "import google.generativeai as genai\n",
    "import pandas\n",
    "import json"
   ]
  },
  {
   "cell_type": "code",
   "execution_count": null,
   "metadata": {},
   "outputs": [],
   "source": [
    "import utils.gemini_functions as gemini_functions\n",
    "import utils.functions as functions\n",
    "gemini_functions.configurar_api()"
   ]
  },
  {
   "cell_type": "code",
   "execution_count": null,
   "metadata": {},
   "outputs": [],
   "source": [
    "# Paso 1: Leer el archivo JSON de entrada\n",
    "json_data = gemini_functions.read_json_file('scraped_texts.json')"
   ]
  },
  {
   "cell_type": "code",
   "execution_count": null,
   "metadata": {},
   "outputs": [],
   "source": [
    "# Limpiar el JSON eliminando las claves con el valor \"Error al scrapear\"\n",
    "json_limpio = functions.limpiar_json(json_data, \"Error al scrapear\")\n",
    "\n",
    "total_claves = len(json_limpio.keys())  # Contar el número total de claves\n",
    "print(f\"Total de claves en el JSON: {total_claves}\")"
   ]
  },
  {
   "cell_type": "code",
   "execution_count": null,
   "metadata": {},
   "outputs": [],
   "source": [
    "# Fragmentar el JSON\n",
    "fragmentos = functions.fragmentar_json(json_data, claves_por_fragmento=40)\n",
    "\n",
    "# Guardar los fragmentos en la carpeta 'jsons'\n",
    "functions.guardar_fragmentos(fragmentos, carpeta_destino=\"jsons\")"
   ]
  },
  {
   "cell_type": "code",
   "execution_count": null,
   "metadata": {},
   "outputs": [],
   "source": [
    "# Cargar el prompt desde un archivo\n",
    "archivo_prompt = \"prompts/analisis_de_conflicto.txt\"\n",
    "prompt = gemini_functions.cargar_prompt(archivo_prompt)"
   ]
  },
  {
   "cell_type": "code",
   "execution_count": null,
   "metadata": {},
   "outputs": [],
   "source": [
    "# Procesar cada fragmento de JSON\n",
    "for i, fragmento in enumerate(fragmentos, start=1):\n",
    "    # Llamada a la función para enviar la solicitud a Gemini con el fragmento actual\n",
    "    response = gemini_functions.enviar_a_gemini(prompt, fragmento)\n",
    "\n",
    "    # Procesar la respuesta\n",
    "    if response:\n",
    "        print(f\"Respuesta con JSON para conflicto {i}:\", response)\n",
    "\n",
    "        # Guardar la respuesta en un archivo de texto con nombre secuencial\n",
    "        archivo_salida = f\"respuesta_gemini_{i}.txt\"\n",
    "        gemini_functions.guardar_respuesta_en_txt(response, archivo_salida)\n",
    "    else:\n",
    "        print(f\"No se obtuvo una respuesta válida para conflicto {i}.\")"
   ]
  }
 ],
 "metadata": {
  "kernelspec": {
   "display_name": "conflictos",
   "language": "python",
   "name": "python3"
  },
  "language_info": {
   "codemirror_mode": {
    "name": "ipython",
    "version": 3
   },
   "file_extension": ".py",
   "mimetype": "text/x-python",
   "name": "python",
   "nbconvert_exporter": "python",
   "pygments_lexer": "ipython3",
   "version": "3.13.1"
  }
 },
 "nbformat": 4,
 "nbformat_minor": 2
}
