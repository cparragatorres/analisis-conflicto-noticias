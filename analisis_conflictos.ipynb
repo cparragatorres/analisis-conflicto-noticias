{
 "cells": [
  {
   "cell_type": "code",
   "execution_count": null,
   "metadata": {},
   "outputs": [],
   "source": [
    "import google.generativeai as genai\n",
    "import pandas\n",
    "import json"
   ]
  },
  {
   "cell_type": "code",
   "execution_count": null,
   "metadata": {},
   "outputs": [],
   "source": [
    "from gemini_functions import configurar_api, read_json_file, cargar_prompt, enviar_a_gemini, guardar_respuesta_en_txt\n",
    "configurar_api()"
   ]
  },
  {
   "cell_type": "code",
   "execution_count": null,
   "metadata": {},
   "outputs": [],
   "source": [
    "# Paso 1: Leer el archivo JSON de entrada\n",
    "json_data = read_json_file('scraped_texts.json')"
   ]
  },
  {
   "cell_type": "code",
   "execution_count": null,
   "metadata": {},
   "outputs": [],
   "source": [
    "total_claves = len(json_data.keys())  # Contar el número total de claves\n",
    "print(f\"Total de claves en el JSON: {total_claves}\")\n",
    "\n",
    "# Mostrar las primeras 5 entradas del JSON\n",
    "keys = list(json_data.keys())  # Obtener las claves del diccionario como una lista\n",
    "for key in keys[:20]:  # Acceder a las primeras 5 claves\n",
    "    print(f\"URL: {key}\")\n",
    "    print(f\"Texto: {json_data[key]}\")\n",
    "    print(\"-\" * 50)"
   ]
  },
  {
   "cell_type": "code",
   "execution_count": null,
   "metadata": {},
   "outputs": [],
   "source": [
    "# Cargar el prompt desde un archivo\n",
    "archivo_prompt = \"prompts/filtrado_de_enlaces.txt\"\n",
    "prompt = cargar_prompt(archivo_prompt)"
   ]
  },
  {
   "cell_type": "code",
   "execution_count": null,
   "metadata": {},
   "outputs": [],
   "source": [
    "# Llamada a la función para enviar la solicitud a Gemini\n",
    "response = enviar_a_gemini(prompt, json_data)\n"
   ]
  },
  {
   "cell_type": "code",
   "execution_count": null,
   "metadata": {},
   "outputs": [],
   "source": [
    "# Procesar la respuesta\n",
    "if response:\n",
    "  print(\"Respuesta con JSON:\", response)\n",
    "  archivo_salida = \"respuesta_gemini.txt\"\n",
    "  guardar_respuesta_en_txt(response, archivo_salida)\n",
    "else:\n",
    "  print(\"No se obtuvo una respuesta válida.\")"
   ]
  }
 ],
 "metadata": {
  "kernelspec": {
   "display_name": "conflictos",
   "language": "python",
   "name": "python3"
  },
  "language_info": {
   "codemirror_mode": {
    "name": "ipython",
    "version": 3
   },
   "file_extension": ".py",
   "mimetype": "text/x-python",
   "name": "python",
   "nbconvert_exporter": "python",
   "pygments_lexer": "ipython3",
   "version": "3.13.1"
  }
 },
 "nbformat": 4,
 "nbformat_minor": 2
}
