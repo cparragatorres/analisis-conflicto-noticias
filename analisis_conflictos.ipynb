{
 "cells": [
  {
   "cell_type": "code",
   "execution_count": null,
   "metadata": {},
   "outputs": [],
   "source": [
    "# analisis_proyecto.ipynb\n",
    "\n",
    "# Importar las funciones desde gemini_functions.py\n",
    "from gemini_functions import read_json_file, send_to_gemini, process_gemini_response, save_json_file\n",
    "from config import API_KEY\n",
    "\n",
    "# Tu clave de API de Gemini\n",
    "api_key = API_KEY\n",
    "\n",
    "# Paso 1: Leer el archivo JSON de entrada\n",
    "input_data = read_json_file('scraped_texts.json')\n",
    "\n",
    "if input_data:\n",
    "    # Paso 2: Enviar cada texto a Gemini\n",
    "    outputs = []\n",
    "    for entry in input_data:\n",
    "        text = entry.get('text', '')\n",
    "        if text:\n",
    "            response = send_to_gemini(text, api_key)\n",
    "            processed_response = process_gemini_response(response)\n",
    "            if processed_response:\n",
    "                outputs.append(processed_response)\n",
    "            else:\n",
    "                print(f\"No se procesó correctamente el texto: {text}\")\n",
    "        else:\n",
    "            print(\"Texto vacío o no encontrado en la entrada.\")\n",
    "\n",
    "    # Paso 3: Guardar los resultados procesados en un archivo JSON\n",
    "    if outputs:\n",
    "        save_json_file(outputs, 'conflictos_procesados.json')\n"
   ]
  }
 ],
 "metadata": {
  "kernelspec": {
   "display_name": "conflictos",
   "language": "python",
   "name": "python3"
  },
  "language_info": {
   "name": "python",
   "version": "3.13.1"
  }
 },
 "nbformat": 4,
 "nbformat_minor": 2
}
